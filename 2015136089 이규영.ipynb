{
 "cells": [
  {
   "cell_type": "code",
   "execution_count": 6,
   "metadata": {},
   "outputs": [
    {
     "name": "stdout",
     "output_type": "stream",
     "text": [
      "1\n"
     ]
    }
   ],
   "source": [
    "print ( 4 and 3 and 2 and 1)"
   ]
  },
  {
   "cell_type": "markdown",
   "metadata": {},
   "source": [
    "+ and는 앞에 수가 참인경우 뒤에 수까지 참인지 판별한다.\n",
    "+ 0이 아닌 모든 값은 참이기 때문에 4부터 시작해서 3 2 1 모두 확인하여야한다. 마지막 부분 1마저참이기에 1을 반환, 출력한다."
   ]
  },
  {
   "cell_type": "code",
   "execution_count": 5,
   "metadata": {},
   "outputs": [
    {
     "name": "stdout",
     "output_type": "stream",
     "text": [
      "1\n"
     ]
    }
   ],
   "source": [
    "print (1 or 2 or 3 or 4)"
   ]
  },
  {
   "cell_type": "markdown",
   "metadata": {},
   "source": [
    "+ or는 앞에 수가 경우 뒤에 수를 보지않고 반환한다.\n",
    "+ 0이 아닌 수는 모두 참임으로 1만 보고 반환한다."
   ]
  },
  {
   "cell_type": "code",
   "execution_count": 4,
   "metadata": {},
   "outputs": [
    {
     "name": "stdout",
     "output_type": "stream",
     "text": [
      "2\n"
     ]
    }
   ],
   "source": [
    "print ( 1 and 2 or 3 and 4)"
   ]
  },
  {
   "cell_type": "markdown",
   "metadata": {},
   "source": [
    "+ 논리 연산자가 여러개일 경우 and가 or보다 우선시된다.\n",
    "+ 그렇기에 1 and 2 를 먼저 연산하여 2를 반환하고 2 or 3를 계산한다\n",
    "+ 2는 참이기때문에 뒤에것을 보지않고 2를 반환한다."
   ]
  },
  {
   "cell_type": "code",
   "execution_count": 3,
   "metadata": {},
   "outputs": [
    {
     "name": "stdout",
     "output_type": "stream",
     "text": [
      "2\n"
     ]
    }
   ],
   "source": [
    "print ( (1 and 2 ) or (3 and 4) )"
   ]
  },
  {
   "cell_type": "markdown",
   "metadata": {},
   "source": [
    "+ ( 1 and 2 )에서 2를 반환한다. \n",
    "+ 뒤에 괄호 (3 and 4)에서 4를 반환한다.\n",
    "+ or에 의해서 앞에 2가 참이기에 2를 반환한다."
   ]
  },
  {
   "cell_type": "code",
   "execution_count": 1,
   "metadata": {},
   "outputs": [
    {
     "name": "stdout",
     "output_type": "stream",
     "text": [
      "1\n"
     ]
    }
   ],
   "source": [
    "print ( 1 or 2 and 3 or 4)"
   ]
  },
  {
   "cell_type": "markdown",
   "metadata": {},
   "source": [
    "+ 위의 과제와 동일하게 1 or 2에서 1이 참이기에 뒤에 것을 보지않고 1을 반환한다."
   ]
  },
  {
   "cell_type": "code",
   "execution_count": 2,
   "metadata": {},
   "outputs": [
    {
     "name": "stdout",
     "output_type": "stream",
     "text": [
      "3\n"
     ]
    }
   ],
   "source": [
    "print ( (1 or 2) and (3 or 4))"
   ]
  },
  {
   "cell_type": "markdown",
   "metadata": {},
   "source": [
    "+ 앞의 괄호는 1, 뒤에 괄호는 3을 반환한다.\n",
    "+ 1 and 3 임으로 뒤의 참인3을 반환한다."
   ]
  },
  {
   "cell_type": "code",
   "execution_count": null,
   "metadata": {},
   "outputs": [
    {
     "name": "stdout",
     "output_type": "stream",
     "text": [
      "경로를 입력하십시오 : \n"
     ]
    }
   ],
   "source": [
    "def div_path(s) :\n",
    "    s=s.replace(\"'\",\"\")\n",
    "    rStr = s.split(\"/\")\n",
    "    fun = ''\n",
    "    list = []\n",
    "    for i in range(1,len(rStr)-1) : \n",
    "        fun = fun + '/' + rStr[i]\n",
    "    list.append(fun)\n",
    "    list.append(rStr[-1])\n",
    "    return list\n",
    "\n",
    "print ( '경로를 입력하십시오 : ')\n",
    "s1 = input()\n",
    "print(div_path(s1))\n",
    "print ( '경로를 입력하십시오 : ')\n",
    "s2 = input()\n",
    "print(div_path(s2))"
   ]
  },
  {
   "cell_type": "markdown",
   "metadata": {},
   "source": [
    "+ 입력값에 문자열 ' 가 있기때문에 replace를 사용해서 제거\n",
    "+ split를 사용해서 /를 기준으로 문자열을 나눔\n",
    "+ 빈 문자열 fun과 list 정의\n",
    "+ for문을 통하여 나누어진 rStr값을 fun안에 집어넣고 append를 통해 list에 다시 저장\n",
    "+ 마지막에 list를 반환하여 div_path정의"
   ]
  },
  {
   "cell_type": "code",
   "execution_count": null,
   "metadata": {},
   "outputs": [],
   "source": [
    "def list_union(lista, listb):\n",
    "    for i in listb:\n",
    "        if ( i not in lista):\n",
    "            lista.append(i)\n",
    "    return sorted(lista)\n",
    "\n",
    "print(list_union([1,2,3],[1,2,4]))\n",
    "print(list_union([-10,-5,0,-1],[100,9,0,9]))\n",
    "print(list_union([0,1,2],[0,1,2]))"
   ]
  },
  {
   "cell_type": "markdown",
   "metadata": {},
   "source": [
    "+ list_union 함수 정의(lista와 listb를 받을 수 있다)\n",
    "+ lista내에서 listb가 없으면 lista에 값을 추가한다.\n",
    "+ sorted를 통해 정렬한 lista를 반환"
   ]
  },
  {
   "cell_type": "code",
   "execution_count": 13,
   "metadata": {},
   "outputs": [
    {
     "name": "stdout",
     "output_type": "stream",
     "text": [
      "baekjoon\n",
      "1 0 -1 -1 2 -1 -1 -1 -1 4 3 -1 -1 7 5 -1 -1 -1 -1 -1 -1 -1 -1 -1 -1 -1 "
     ]
    }
   ],
   "source": [
    "word = str(input())\n",
    "Alpha = ['a','b','c','d','e','f','g','h','i','j','k','l','m','n','o','p','q','r','s','t','u','v','w','x','y','z']\n",
    "num = [-1 for i in range(26)]\n",
    "for i in range(len(word)):\n",
    "    for j in range(len(Alpha)):\n",
    "        if word[i] == Alpha[j]:\n",
    "            if num[j] == -1:\n",
    "                num[j] = i\n",
    "for i in range(len(num)):\n",
    "    print(num[i], end=' ')"
   ]
  },
  {
   "cell_type": "markdown",
   "metadata": {},
   "source": [
    "+ 입력값을 word에 str값으로입력받는다.\n",
    "+ 알파벳의 유니코드를 이용하여 입력받아도 되지만 나의 한계와 이후 코딩할때 스스로 이해 불가로 Alpha에 a~z를 직접 넣었다.\n",
    "+ num이란 새로운 배열에 -1을 하나씩 넣는다.\n",
    "+ 입력받은 word의 길이 내에서 26개의수를 센다.\n",
    "+ word의 첫번째 자리부터 (예를들어 b) 시작해서 알파의 배열내에서 같은게 나온다면 \n",
    "  num안의 인덱싱 값을 비교하여 그마저 -1이라면 num안에 값을 i값으로 변환한다.\n",
    "+ 추후 바뀐 num을 출력한다."
   ]
  },
  {
   "cell_type": "code",
   "execution_count": 2,
   "metadata": {},
   "outputs": [
    {
     "name": "stdout",
     "output_type": "stream",
     "text": [
      "2\n",
      "3 abc\n",
      "aaabbbccc\n",
      "5 /htp\n",
      "/////hhhhhtttttppppp\n"
     ]
    }
   ],
   "source": [
    "T = int(input())\n",
    "P = ''\n",
    "for i in range(T) :\n",
    "    R , S = input().split()\n",
    "    for k in range(len(S)) :\n",
    "        P = P + S[k]*int(R)\n",
    "    print(P)\n",
    "    P = ''"
   ]
  },
  {
   "cell_type": "markdown",
   "metadata": {},
   "source": [
    "+ 최초 테스트 할 수인 T값을 int형태로 받는다.\n",
    "+ 빈 문자열인 P 선언\n",
    "+ T번 반복하고 입력받은 문자열을 공백으로 잘라 R과 S에 넣는다.(이부분에서 친구의 도움이 컸다)\n",
    "+ S의 길이만큼 반복하고 S[0]에 해당하는 문자열을 R만큼 시키고 P에 저장한다. 이걸 반복한다.\n",
    "+ 후에 P를 출력한 후 다음 테스트를 위해 초기화한다."
   ]
  },
  {
   "cell_type": "code",
   "execution_count": 8,
   "metadata": {},
   "outputs": [
    {
     "name": "stdout",
     "output_type": "stream",
     "text": [
      "499\n"
     ]
    }
   ],
   "source": [
    "import urllib.request\n",
    "url = 'http://cse.koreatech.ac.kr'\n",
    "a = urllib.request.urlopen(url)\n",
    "source = a.read().decode('utf-8')\n",
    "# 추후 숙제 답안 제출 때엔 아래 코드는 주석처리할 것                 \n",
    "#print(type(source_bytes))\n",
    "#print(type(source))\n",
    "\n",
    "source = source.strip()\n",
    "Being = ''\n",
    "check = True\n",
    "lit = []\n",
    "for i in range(len(source)):\n",
    "    if (source[i] == '<' ):\n",
    "        check = False\n",
    "        continue\n",
    "    if ( source[i] == '>' and check == False):\n",
    "        check = True\n",
    "        continue\n",
    "    if ( check == True ):\n",
    "        Being = Being + source[i]\n",
    "\n",
    "lit = Being.split()\n",
    "print ( len(lit) )\n",
    "#print(l)"
   ]
  },
  {
   "cell_type": "markdown",
   "metadata": {},
   "source": [
    "+ urllib을 사용하기 위해 import를 함\n",
    "+ 필요한 주소를 url에 저장시키고 urllib.requst.urlopen을 통해 불러온다.(이 부분은 구글참조)\n",
    "+ 하지만 읽을 수 없게 출력하기 때문에 utf-8로 디코딩 해준다.\n",
    "+ 디코딩한 파일을 source에 저장하고 공백을 모두 제거한다.\n",
    "+ html내에 불필요한 주석부분을 검사하기위해 check를 만들고 마지막에 모든 문자를 넣을 리스트도 선언한다.\n",
    "+ for문을 통해 '<'가 발생하면 check를 false를 고정시키고 '>'가 발생하고 false가 되면 다시 true로 선언한다.\n",
    "+ 그 외 check가 true면 Being 안에 차근차근 집어 넣는다."
   ]
  },
  {
   "cell_type": "markdown",
   "metadata": {},
   "source": [
    "![](https://raw.githubusercontent.com/Lee-Kyu-Young/Harlequeen/master/BaekJoon.PNG)"
   ]
  },
  {
   "cell_type": "markdown",
   "metadata": {},
   "source": [
    "+ 그렇게 어렵지도 않고 쉽지도 않은 적당한 난이도였던것 같다. 하지만 마지막 문제는 난이도가 있었던 것 같다. 최선을 다해 만들었지만 결국 < > > 이렇게 된 경우를 처리하지 못했다. 오늘 수업시간에 교수님께서 정답은 없다고 위로의 말을 해주셨지만 매우 찝찝하게 넘어갔다. 추후에 el에 올라오는 코드를 보고 참고해야겠다. 또한 문자열 입력에서 머릿속으로 유니코드로 풀어내는 방법을 모두 구상해내고 알고리즘까지다 만들어놨는데 스스로 코드로 구현하지 못하는 내가 너무 답답했다. 결론적으로는 a에서 z까지 직접 다 넣었지만 조금 더 연습하고 공부한다면 나중엔 유니코드로 풀 수 있을 것 같다."
   ]
  }
 ],
 "metadata": {
  "kernelspec": {
   "display_name": "Python 3",
   "language": "python",
   "name": "python3"
  },
  "language_info": {
   "codemirror_mode": {
    "name": "ipython",
    "version": 3
   },
   "file_extension": ".py",
   "mimetype": "text/x-python",
   "name": "python",
   "nbconvert_exporter": "python",
   "pygments_lexer": "ipython3",
   "version": "3.6.5"
  }
 },
 "nbformat": 4,
 "nbformat_minor": 2
}
