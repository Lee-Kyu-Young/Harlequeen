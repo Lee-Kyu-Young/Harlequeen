{
 "cells": [
  {
   "cell_type": "code",
   "execution_count": 29,
   "metadata": {},
   "outputs": [
    {
     "name": "stdout",
     "output_type": "stream",
     "text": [
      "Python Hello\n"
     ]
    }
   ],
   "source": [
    "a = \"Hello Python\"\n",
    "print(a[6:]+\" \"+a[:5])"
   ]
  },
  {
   "cell_type": "markdown",
   "metadata": {},
   "source": [
    "### Slicing : 문자의 인덱스를 통해 단어를 추출하는 것\n",
    "+ a 에 hello Python이 저장되어있다.\n",
    "+ Python을 먼저 추출해야하므로 a[6:12]로 작성한다\n",
    "+ 후에 Hello 추출을 위해 a[0:5]기입한 후 +로 묶어준다."
   ]
  },
  {
   "cell_type": "code",
   "execution_count": 19,
   "metadata": {},
   "outputs": [
    {
     "data": {
      "text/plain": [
       "'World Python Hello'"
      ]
     },
     "execution_count": 19,
     "metadata": {},
     "output_type": "execute_result"
    }
   ],
   "source": [
    "b = \"Hello Python World\"\n",
    "b[13:] + \" \" + b[6:12] + \" \" + b[0:5]"
   ]
  },
  {
   "cell_type": "markdown",
   "metadata": {},
   "source": [
    "+ 위에 문제와 흡사하며 단락이 3개로 늘어났다"
   ]
  },
  {
   "cell_type": "code",
   "execution_count": 18,
   "metadata": {},
   "outputs": [
    {
     "data": {
      "text/plain": [
       "'olleH'"
      ]
     },
     "execution_count": 18,
     "metadata": {},
     "output_type": "execute_result"
    }
   ],
   "source": [
    "c = \"Hello\"\n",
    "c[::-1]"
   ]
  },
  {
   "cell_type": "markdown",
   "metadata": {},
   "source": [
    "+ 슬라이싱에서 x:y를 통해 x~y범위를 정했다면 x:y:z에서 z는 step을 의미한다.\n",
    "+ ::2라면 2칸씩 넘지만 -1을 사용하면 앞과뒤에 인덱스차가 -1이 되어야하므로 앞에것에서 뒤에것을 뺀 -1 즉 문자열이 반대로 출력이 된다."
   ]
  },
  {
   "cell_type": "code",
   "execution_count": 21,
   "metadata": {},
   "outputs": [
    {
     "ename": "AttributeError",
     "evalue": "'str' object has no attribute 's'",
     "output_type": "error",
     "traceback": [
      "\u001b[1;31m---------------------------------------------------------------------------\u001b[0m",
      "\u001b[1;31mAttributeError\u001b[0m                            Traceback (most recent call last)",
      "\u001b[1;32m<ipython-input-21-da4b46d219d7>\u001b[0m in \u001b[0;36m<module>\u001b[1;34m()\u001b[0m\n\u001b[0;32m      1\u001b[0m \u001b[0ms\u001b[0m \u001b[1;33m=\u001b[0m \u001b[1;34m\"python\"\u001b[0m\u001b[1;33m\u001b[0m\u001b[0m\n\u001b[1;32m----> 2\u001b[1;33m \u001b[0ms\u001b[0m\u001b[1;33m[\u001b[0m\u001b[1;36m0\u001b[0m\u001b[1;33m]\u001b[0m\u001b[1;33m,\u001b[0m\u001b[0ms\u001b[0m\u001b[1;33m[\u001b[0m\u001b[1;36m0\u001b[0m\u001b[1;33m]\u001b[0m\u001b[1;33m[\u001b[0m\u001b[1;36m0\u001b[0m\u001b[1;33m]\u001b[0m\u001b[1;33m.\u001b[0m\u001b[0ms\u001b[0m\u001b[1;33m[\u001b[0m\u001b[1;36m0\u001b[0m\u001b[1;33m]\u001b[0m\u001b[1;33m[\u001b[0m\u001b[1;36m0\u001b[0m\u001b[1;33m]\u001b[0m\u001b[1;33m[\u001b[0m\u001b[1;36m0\u001b[0m\u001b[1;33m]\u001b[0m\u001b[1;33m\u001b[0m\u001b[0m\n\u001b[0m",
      "\u001b[1;31mAttributeError\u001b[0m: 'str' object has no attribute 's'"
     ]
    }
   ],
   "source": [
    "s = \"python\"\n",
    "s[0],s[0][0].s[0][0][0]"
   ]
  },
  {
   "cell_type": "markdown",
   "metadata": {},
   "source": [
    "+ s[0]은 python에서 0번재 인덱스에 있는 문자'p'가 나오지만 그 외 s[0][0]과 s[0][0][0]은 2차원 3차원 배열의 인덱스를 말하기때문에 값이 나오지 않는 것이다."
   ]
  },
  {
   "cell_type": "code",
   "execution_count": 23,
   "metadata": {},
   "outputs": [
    {
     "ename": "IndexError",
     "evalue": "string index out of range",
     "output_type": "error",
     "traceback": [
      "\u001b[1;31m---------------------------------------------------------------------------\u001b[0m",
      "\u001b[1;31mIndexError\u001b[0m                                Traceback (most recent call last)",
      "\u001b[1;32m<ipython-input-23-78e38a7d193b>\u001b[0m in \u001b[0;36m<module>\u001b[1;34m()\u001b[0m\n\u001b[1;32m----> 1\u001b[1;33m \u001b[0ms\u001b[0m\u001b[1;33m[\u001b[0m\u001b[1;33m-\u001b[0m\u001b[1;36m100\u001b[0m\u001b[1;33m]\u001b[0m\u001b[1;33m,\u001b[0m \u001b[0ms\u001b[0m\u001b[1;33m[\u001b[0m\u001b[1;36m100\u001b[0m\u001b[1;33m]\u001b[0m\u001b[1;33m\u001b[0m\u001b[0m\n\u001b[0m",
      "\u001b[1;31mIndexError\u001b[0m: string index out of range"
     ]
    }
   ],
   "source": [
    "s[-100], s[100]"
   ]
  },
  {
   "cell_type": "markdown",
   "metadata": {},
   "source": [
    "+ 인덱스의 범위가 python의 길이인데 -100과 100은 초과했으므로 출력되지않는다."
   ]
  },
  {
   "cell_type": "code",
   "execution_count": 51,
   "metadata": {},
   "outputs": [
    {
     "ename": "TypeError",
     "evalue": "string indices must be integers",
     "output_type": "error",
     "traceback": [
      "\u001b[1;31m---------------------------------------------------------------------------\u001b[0m",
      "\u001b[1;31mTypeError\u001b[0m                                 Traceback (most recent call last)",
      "\u001b[1;32m<ipython-input-51-20fffd3b3844>\u001b[0m in \u001b[0;36m<module>\u001b[1;34m()\u001b[0m\n\u001b[1;32m----> 1\u001b[1;33m \u001b[0ms\u001b[0m\u001b[1;33m[\u001b[0m\u001b[1;33m-\u001b[0m\u001b[1;36m100\u001b[0m\u001b[1;33m,\u001b[0m\u001b[1;36m100\u001b[0m\u001b[1;33m]\u001b[0m\u001b[1;33m\u001b[0m\u001b[0m\n\u001b[0m",
      "\u001b[1;31mTypeError\u001b[0m: string indices must be integers"
     ]
    }
   ],
   "source": [
    "s[-100,100]"
   ]
  },
  {
   "cell_type": "markdown",
   "metadata": {},
   "source": [
    "+ 이 또한 2차월 배열에서 -100,100의 인덱스위치인데 s는 1차원이기에 출력되지않는다."
   ]
  },
  {
   "cell_type": "code",
   "execution_count": 52,
   "metadata": {},
   "outputs": [
    {
     "data": {
      "text/plain": [
       "'ytho'"
      ]
     },
     "execution_count": 52,
     "metadata": {},
     "output_type": "execute_result"
    }
   ],
   "source": [
    "s[1:-1]"
   ]
  },
  {
   "cell_type": "markdown",
   "metadata": {},
   "source": [
    "+ 'python'에서 인덱스 1 부터 끝자리 5자리에서 -1한 부분까지 출력을 하라는 뜻이다."
   ]
  },
  {
   "cell_type": "code",
   "execution_count": 53,
   "metadata": {},
   "outputs": [
    {
     "name": "stdout",
     "output_type": "stream",
     "text": [
      "1 3 5 7 9 11 13 15 17 19 21 23 25 27 29 31 33 35 37 39 41 43 45 47 49 51 53 55 57 59 61 63 65 67 69 71 73 75 77 79 81 83 85 87 89 91 93 95 97 99 "
     ]
    }
   ],
   "source": [
    "for i in range(1,100,2): \n",
    "    print(i,end = \" \")"
   ]
  },
  {
   "cell_type": "markdown",
   "metadata": {},
   "source": [
    "+ for문을 통해 반복하되 range(1,100,2) 즉 범위1에서 100까지 2씩 뛰어넘어서 출력하란 뜻이다."
   ]
  },
  {
   "cell_type": "code",
   "execution_count": 2,
   "metadata": {},
   "outputs": [
    {
     "name": "stdout",
     "output_type": "stream",
     "text": [
      "2550\n"
     ]
    }
   ],
   "source": [
    "result = 0\n",
    "j = 0\n",
    "while j<=100 :\n",
    "    if j%2==0 :\n",
    "        result=result + j\n",
    "    j=j+1\n",
    "print(result)"
   ]
  },
  {
   "cell_type": "markdown",
   "metadata": {},
   "source": [
    "+ while << j가 100이 될때까지 반복\n",
    "+ if << j가 2로 나눠지면 result값에 j를 더함\n",
    "+ j=j+1 << while 안에서 j를 1씩 증가시킴"
   ]
  },
  {
   "cell_type": "code",
   "execution_count": 59,
   "metadata": {},
   "outputs": [
    {
     "name": "stdout",
     "output_type": "stream",
     "text": [
      "3125\n",
      "5213\n"
     ]
    }
   ],
   "source": [
    "num=input()\n",
    "print(num[::-1])"
   ]
  },
  {
   "cell_type": "markdown",
   "metadata": {},
   "source": [
    "+ input()으로는 문자열형태로 받는다. 고로 num에 3125란 문자열이 입력되었기에 num(::-1)로 역출력한다."
   ]
  },
  {
   "cell_type": "code",
   "execution_count": 1,
   "metadata": {},
   "outputs": [
    {
     "name": "stdout",
     "output_type": "stream",
     "text": [
      "50\n",
      "1 2 3 5 7 11 13 17 19 23 29 31 37 41 43 47 "
     ]
    }
   ],
   "source": [
    "prime=int(input())\n",
    "for i in range(1,prime+1) :\n",
    "    tmp = True\n",
    "    for j in range(2,i):\n",
    "        if i%j==0:\n",
    "            tmp=False\n",
    "            break\n",
    "    if tmp:\n",
    "        print(i,end=\" \")"
   ]
  },
  {
   "cell_type": "markdown",
   "metadata": {},
   "source": [
    "+ 3번째 줄에서 for문안에서 tmp를 true로 초기화\n",
    "+ 5번째 줄에서 나눈값이 0이 하나라도 된다면 False값으로 하고 반복문 탈출\n",
    "+ 8번째 줄에서 위에 for에서 합당한 값이 없다면 tmp는 계속 true임으로 출력, 즉 소수 출력"
   ]
  },
  {
   "cell_type": "code",
   "execution_count": 77,
   "metadata": {},
   "outputs": [
    {
     "name": "stdout",
     "output_type": "stream",
     "text": [
      "5\n",
      "*****\n",
      " ****\n",
      "  ***\n",
      "   **\n",
      "    *\n"
     ]
    }
   ],
   "source": [
    "star=int(input())\n",
    "space=0\n",
    "while star>0:\n",
    "    print(' '*space + \"*\"*star)\n",
    "    star-=1\n",
    "    space+=1"
   ]
  },
  {
   "cell_type": "markdown",
   "metadata": {},
   "source": [
    "+ while << 위에서 입력받은 star가 0이 될때까지 반복\n",
    "+ star와 space를 통하여 print에서 갯수 조절을 해준다."
   ]
  },
  {
   "cell_type": "code",
   "execution_count": 20,
   "metadata": {},
   "outputs": [
    {
     "name": "stdout",
     "output_type": "stream",
     "text": [
      "OneTwoThreeFourFiveSixSevenEightNineTen\n",
      "OneTwoThre\n",
      "eFourFiveS\n",
      "ixSevenEig\n",
      "htNineTen"
     ]
    }
   ],
   "source": [
    "line = input()\n",
    "count = 0;\n",
    "for i in range(0,len(line)):\n",
    "    if count==10:\n",
    "        print(\"\")\n",
    "        count = 0\n",
    "    print(line[i],end='')\n",
    "    count = count+1"
   ]
  },
  {
   "cell_type": "markdown",
   "metadata": {},
   "source": [
    "+ for << 0에서 len(line) line의 문자길이까지 반복한다.\n",
    "+ if << i번이 10번째가 될때마다 한줄씩 띄운다\n",
    "+ print로 line[0]부터 line[9]까지 반복한다."
   ]
  },
  {
   "cell_type": "code",
   "execution_count": 4,
   "metadata": {},
   "outputs": [
    {
     "name": "stdout",
     "output_type": "stream",
     "text": [
      "15\n",
      "3\n"
     ]
    }
   ],
   "source": [
    "sugar = int(input())\n",
    "if sugar == 4 or sugar == 7 :\n",
    "    print(\"-1\")\n",
    "elif sugar % 5 == 0 :\n",
    "    print(int(sugar/5))\n",
    "elif (sugar%5)%2 == 1 :\n",
    "    print(int(sugar/5+1))\n",
    "else :\n",
    "    print(int((sugar/5)+2))"
   ]
  },
  {
   "cell_type": "markdown",
   "metadata": {},
   "source": [
    "+ 설탕이 4와 7일땐 불가능하므로 -1을 출력\n",
    "+ 첫번째 elif << 5로 나눠떨어지면 5kg설탕봉지만 필요하므로 그 갯수를 출력\n",
    "+ 두번째 elif << 5로 나눴을때 남은 나머지가 2로 다시 나눠서 1이 된다면 총갯수는 5kg갯수에 1개 더 추가한다.\n",
    "+ else 나머지가 2 혹은 4가 된다면 5kg갯수에 2개를 더 추가한다."
   ]
  },
  {
   "cell_type": "markdown",
   "metadata": {},
   "source": [
    "![](https://raw.githubusercontent.com/Lee-Kyu-Young/Harlequeen/master/answer.PNG)"
   ]
  },
  {
   "cell_type": "markdown",
   "metadata": {},
   "source": [
    "과제를 하며 거의 처음부터 다시 공부를 하였다. 지난 인강은 전부 다시 들어야했고 구글과 강의자료는 계속 끼고 있어야했다. 하지만 스스로 실력항상에 도움이 되었다 생각하고 아직 안배운 elif문까지 예습하게 되어서 매우 알찬 첫 과제였다고 생각한다."
   ]
  }
 ],
 "metadata": {
  "kernelspec": {
   "display_name": "Python 3",
   "language": "python",
   "name": "python3"
  },
  "language_info": {
   "codemirror_mode": {
    "name": "ipython",
    "version": 3
   },
   "file_extension": ".py",
   "mimetype": "text/x-python",
   "name": "python",
   "nbconvert_exporter": "python",
   "pygments_lexer": "ipython3",
   "version": "3.6.5"
  }
 },
 "nbformat": 4,
 "nbformat_minor": 2
}
